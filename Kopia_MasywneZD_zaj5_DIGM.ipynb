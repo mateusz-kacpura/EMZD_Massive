{
  "nbformat": 4,
  "nbformat_minor": 0,
  "metadata": {
    "colab": {
      "provenance": []
    },
    "kernelspec": {
      "name": "python3",
      "display_name": "Python 3"
    },
    "language_info": {
      "name": "python"
    }
  },
  "cells": [
    {
      "cell_type": "markdown",
      "source": [
        "# Samlowanie przez hashowanie to będzie zadanie domowe"
      ],
      "metadata": {
        "id": "Jhw-6NoZm2vP"
      }
    },
    {
      "cell_type": "markdown",
      "source": [
        "Reservair samling, chcemy wylosować k-elementów spośród nieskończonego strumienia danych jednostajnych. To znaczy to że jeśli wezmę dowolne n, długą historię która nie miesci sie na serwerze to chce aby kazdy z tych elementow był wylosowany z prawdopodobieństwem 1/n. Elementy ładujemy do tablicy i ona się składa z a1 ... ak, a potem zaczyna się robić kłopot bo przekraczamy zakres naszego zasobnika, ale w pewnym momencie przekraczamy pamieć komputera. Chcemy aby dalej elementy były losowane w sposób jednostajny i przychodzi kolejny element taki że ak<aj i losujemy. Oto implementacja kodu która wykonuje nastepujące zadanie."
      ],
      "metadata": {
        "id": "6N5AY0tJnRId"
      }
    },
    {
      "cell_type": "markdown",
      "source": [
        "# lgorytm DGIM\n"
      ],
      "metadata": {
        "id": "LRiN6p5spV05"
      }
    },
    {
      "cell_type": "code",
      "source": [
        "class DIGM:\n",
        "    def __init__(self, N):\n",
        "        self.N = N\n",
        "        self.current_time = 0\n",
        "        self.buckets = []\n",
        "\n",
        "    def process_bit(self, bit):\n",
        "        self.current_time += 1\n",
        "\n",
        "        if bit == 1:\n",
        "            self.buckets.insert(0, (1, self.current_time))\n",
        "            self.merge_buckets()\n",
        "        else:\n",
        "            self.buckets.insert(0, (0, self.current_time))\n",
        "\n",
        "        self.delete_expired_buckets()\n",
        "\n",
        "    def merge_buckets(self):\n",
        "        # Przykładowa logika: jeśli są dwa sąsiednie kubełki o tym samym rozmiarze, łącz je\n",
        "        counts = {}\n",
        "        i = 0\n",
        "        while i < len(self.buckets) - 1:\n",
        "\n",
        "            size = self.buckets[i][0]\n",
        "            counts[size] = count.get(size, 0) + 1\n",
        "\n",
        "            if counts[size] > 2:\n",
        "              indices = [j for in range(len(self.buckets)) if self.buckets[j][0] == size]\n",
        "              old_idx = indices[-1]\n",
        "              second_old_idx = indices[-2]\n",
        "\n",
        "              new_size = size * 2\n",
        "              self.buckets[old_idx] = (new_size, self.buckets[old_idx][1])\n",
        "              self.buckets[second_old_idx] = (new_size, self.buckets[second_old_idx][1])\n",
        "              counts[new_size] = counts.get(new_size, 0) + 1\n",
        "              counts.pop(size)\n",
        "\n",
        "            i += 1\n",
        "\n",
        "    def delete_expired_buckets(self):\n",
        "        threshold = self.current_time - self.N\n",
        "        while self.buckets and self.buckets[-1][1] <= threshold:\n",
        "            self.buckets.pop()\n",
        "\n",
        "    def query(self):\n",
        "        total = 0\n",
        "        for i, (size, timestamp) in enumerate(self.buckets):\n",
        "            if i == len(self.buckets) - 1:\n",
        "                total += size // 2\n",
        "            else:\n",
        "                total += size\n",
        "        return total\n"
      ],
      "metadata": {
        "id": "51Ll3XFhrUhG"
      },
      "execution_count": null,
      "outputs": []
    },
    {
      "cell_type": "code",
      "source": [
        "from collections import deque\n",
        "stream = [1,0,1,1,0,1,0,0,1,1,1,0,0,1]"
      ],
      "metadata": {
        "id": "TSCEGKbQnQze"
      },
      "execution_count": null,
      "outputs": []
    },
    {
      "cell_type": "code",
      "source": [
        "len(stream)"
      ],
      "metadata": {
        "colab": {
          "base_uri": "https://localhost:8080/"
        },
        "id": "dW3FG0c4v4vn",
        "outputId": "b2af6647-dc72-48a8-a345-82ba7ed7e3ef"
      },
      "execution_count": null,
      "outputs": [
        {
          "output_type": "execute_result",
          "data": {
            "text/plain": [
              "14"
            ]
          },
          "metadata": {},
          "execution_count": 8
        }
      ]
    },
    {
      "cell_type": "code",
      "source": [
        "N = 10"
      ],
      "metadata": {
        "id": "x-sdy0ADwAda"
      },
      "execution_count": null,
      "outputs": []
    },
    {
      "cell_type": "code",
      "source": [
        "digm = DIGM(N)"
      ],
      "metadata": {
        "id": "tqhuVcBRwDCY"
      },
      "execution_count": null,
      "outputs": []
    },
    {
      "cell_type": "code",
      "source": [
        "actual_window = deque(maxlen=N)"
      ],
      "metadata": {
        "id": "0GnjX-_JwIvY"
      },
      "execution_count": null,
      "outputs": []
    },
    {
      "cell_type": "code",
      "source": [
        "for bit in stream\n",
        "  digm.process_bit(bit)\n",
        "  actual_window.append(bit)\n",
        "  actual_count = sum(actual_window)\n",
        "  print(f\"At time {digm.current_time}: bit {bit} actual ({actual_count}) vs DGIM ({len(actual_window)})\")"
      ],
      "metadata": {
        "colab": {
          "base_uri": "https://localhost:8080/",
          "height": 128
        },
        "id": "3uZk0AqpwOcj",
        "outputId": "757e06a4-e8ef-434e-b7b7-3dccd88c49d4"
      },
      "execution_count": null,
      "outputs": [
        {
          "output_type": "error",
          "ename": "SyntaxError",
          "evalue": "expected ':' (<ipython-input-25-2778d7c33e1f>, line 1)",
          "traceback": [
            "\u001b[0;36m  File \u001b[0;32m\"<ipython-input-25-2778d7c33e1f>\"\u001b[0;36m, line \u001b[0;32m1\u001b[0m\n\u001b[0;31m    for bit in stream\u001b[0m\n\u001b[0m                     ^\u001b[0m\n\u001b[0;31mSyntaxError\u001b[0m\u001b[0;31m:\u001b[0m expected ':'\n"
          ]
        }
      ]
    }
  ]
}
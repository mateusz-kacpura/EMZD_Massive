{
  "nbformat": 4,
  "nbformat_minor": 0,
  "metadata": {
    "colab": {
      "provenance": []
    },
    "kernelspec": {
      "name": "python3",
      "display_name": "Python 3"
    },
    "language_info": {
      "name": "python"
    }
  },
  "cells": [
    {
      "cell_type": "code",
      "source": [
        "!pip install datasketch"
      ],
      "metadata": {
        "colab": {
          "base_uri": "https://localhost:8080/"
        },
        "id": "I_FzgKZgRFnD",
        "outputId": "5a8b4759-be5a-4ba6-f1c9-552c029d526b"
      },
      "execution_count": null,
      "outputs": [
        {
          "output_type": "stream",
          "name": "stdout",
          "text": [
            "Collecting datasketch\n",
            "  Downloading datasketch-1.6.5-py3-none-any.whl.metadata (5.8 kB)\n",
            "Requirement already satisfied: numpy>=1.11 in /usr/local/lib/python3.10/dist-packages (from datasketch) (1.26.4)\n",
            "Requirement already satisfied: scipy>=1.0.0 in /usr/local/lib/python3.10/dist-packages (from datasketch) (1.13.1)\n",
            "Downloading datasketch-1.6.5-py3-none-any.whl (89 kB)\n",
            "\u001b[2K   \u001b[90m━━━━━━━━━━━━━━━━━━━━━━━━━━━━━━━━━━━━━━━━\u001b[0m \u001b[32m89.2/89.2 kB\u001b[0m \u001b[31m1.3 MB/s\u001b[0m eta \u001b[36m0:00:00\u001b[0m\n",
            "\u001b[?25hInstalling collected packages: datasketch\n",
            "Successfully installed datasketch-1.6.5\n"
          ]
        }
      ]
    },
    {
      "cell_type": "code",
      "execution_count": null,
      "metadata": {
        "id": "YH2C8prTD-pl"
      },
      "outputs": [],
      "source": [
        "import numpy as np\n",
        "from datasketch import MinHash, MinHashLSH"
      ]
    },
    {
      "cell_type": "code",
      "source": [
        "set1 = set(['minhash', 'is', 'a', 'probabilistic', 'data', 'structure', 'for',\n",
        "            'estimating', 'the', 'similarity', 'between', 'datasets'])\n",
        "set2 = set(['minhash', 'is', 'a', 'probability', 'data', 'structure', 'for',\n",
        "            'estimating', 'the', 'similarity', 'between', 'documents'])\n",
        "set3 = set(['minhash', 'is', 'probability', 'data', 'structure', 'for',\n",
        "            'estimating', 'the', 'similarity', 'between', 'documents'])"
      ],
      "metadata": {
        "id": "UsSU5vouRE1y"
      },
      "execution_count": null,
      "outputs": []
    },
    {
      "cell_type": "code",
      "source": [
        "m1 = MinHash(num_perm=128) #liczba permutacji\n",
        "m2 = MinHash(num_perm=128)\n",
        "m3 = MinHash(num_perm=128)"
      ],
      "metadata": {
        "id": "BPLBzaLpSSqX"
      },
      "execution_count": null,
      "outputs": []
    },
    {
      "cell_type": "code",
      "source": [
        "for d in set1:\n",
        "  m1.update(d.encode('utf8'))\n",
        "for d in set2:\n",
        "  m2.update(d.encode('utf8'))\n",
        "for d in set3:\n",
        "  m3.update(d.encode('utf8'))"
      ],
      "metadata": {
        "id": "aSehWqZLSdC9"
      },
      "execution_count": null,
      "outputs": []
    },
    {
      "cell_type": "code",
      "source": [
        "m1.jaccard(m2)"
      ],
      "metadata": {
        "colab": {
          "base_uri": "https://localhost:8080/"
        },
        "id": "qtOQS8lYS9Mi",
        "outputId": "37c1bf54-cbee-49c9-901d-443ce5d958e9"
      },
      "execution_count": null,
      "outputs": [
        {
          "output_type": "execute_result",
          "data": {
            "text/plain": [
              "0.7109375"
            ]
          },
          "metadata": {},
          "execution_count": 6
        }
      ]
    },
    {
      "cell_type": "code",
      "source": [
        "m2.jaccard(m1)"
      ],
      "metadata": {
        "colab": {
          "base_uri": "https://localhost:8080/"
        },
        "id": "0QQlbDYPTmo9",
        "outputId": "26e83435-f424-48f0-baa1-58cc3d68a566"
      },
      "execution_count": null,
      "outputs": [
        {
          "output_type": "execute_result",
          "data": {
            "text/plain": [
              "0.7109375"
            ]
          },
          "metadata": {},
          "execution_count": 7
        }
      ]
    },
    {
      "cell_type": "code",
      "source": [
        "m1.jaccard(m3)"
      ],
      "metadata": {
        "colab": {
          "base_uri": "https://localhost:8080/"
        },
        "id": "010lvjt2TqB9",
        "outputId": "283b076c-5f41-4937-d464-eb5d3dc722f5"
      },
      "execution_count": null,
      "outputs": [
        {
          "output_type": "execute_result",
          "data": {
            "text/plain": [
              "0.640625"
            ]
          },
          "metadata": {},
          "execution_count": 8
        }
      ]
    },
    {
      "cell_type": "code",
      "source": [
        "lsh = MinHashLSH(threshold=0.5, num_perm=128)"
      ],
      "metadata": {
        "id": "rkmS1G9QTsQ-"
      },
      "execution_count": null,
      "outputs": []
    },
    {
      "cell_type": "code",
      "source": [
        "lsh.insert('m2', m2)\n",
        "lsh.insert('m3', m3)"
      ],
      "metadata": {
        "id": "O_6XJR48UANf"
      },
      "execution_count": null,
      "outputs": []
    },
    {
      "cell_type": "code",
      "source": [
        "lsh.query(m1)"
      ],
      "metadata": {
        "colab": {
          "base_uri": "https://localhost:8080/"
        },
        "id": "peNG09WkUScN",
        "outputId": "87491260-a602-4961-8492-4f9a36c07cca"
      },
      "execution_count": null,
      "outputs": [
        {
          "output_type": "execute_result",
          "data": {
            "text/plain": [
              "['m2', 'm3']"
            ]
          },
          "metadata": {},
          "execution_count": 11
        }
      ]
    },
    {
      "cell_type": "code",
      "source": [
        "import pickle\n",
        "pickle.dump(lsh, open('plik.plk', 'wb'))"
      ],
      "metadata": {
        "id": "jiwt7nWAUdr-"
      },
      "execution_count": null,
      "outputs": []
    },
    {
      "cell_type": "code",
      "source": [
        "lsh.b, lsh.r, lsh.h"
      ],
      "metadata": {
        "colab": {
          "base_uri": "https://localhost:8080/"
        },
        "id": "pc1aRoonUzzB",
        "outputId": "d07b1b6b-fe88-475e-c985-67f72585258b"
      },
      "execution_count": null,
      "outputs": [
        {
          "output_type": "execute_result",
          "data": {
            "text/plain": [
              "(25, 5, 128)"
            ]
          },
          "metadata": {},
          "execution_count": 13
        }
      ]
    },
    {
      "cell_type": "code",
      "source": [
        "#Twenty years after by Alexandre Dumas and Auguste Maquet\n",
        "!wget https://www.gutenberg.org/cache/epub/1259/pg1259.txt\n",
        "#Hamlet, Prince of Denmark by William Shakespeare\n",
        "!wget https://www.gutenberg.org/cache/epub/27761/pg27761.txt\n",
        "#The Adventures of Sherlock Holmes by Arthur Conan Doyle\n",
        "!wget https://www.gutenberg.org/cache/epub/1661/pg1661.txt\n",
        "#The Picture of Dorian Gray by Oscar Wilde\n",
        "!wget https://www.gutenberg.org/cache/epub/174/pg174.txt\n",
        "#The Great Gatsby by F. Scott Fitzgerald\n",
        "!wget https://www.gutenberg.org/cache/epub/64317/pg64317.txt"
      ],
      "metadata": {
        "id": "FTL30s0bVAfP",
        "colab": {
          "base_uri": "https://localhost:8080/"
        },
        "outputId": "f4c5499d-0b3d-480d-d497-4e602504e727"
      },
      "execution_count": null,
      "outputs": [
        {
          "output_type": "stream",
          "name": "stdout",
          "text": [
            "--2024-10-22 19:39:13--  https://www.gutenberg.org/cache/epub/1259/pg1259.txt\n",
            "Resolving www.gutenberg.org (www.gutenberg.org)... 152.19.134.47, 2610:28:3090:3000:0:bad:cafe:47\n",
            "Connecting to www.gutenberg.org (www.gutenberg.org)|152.19.134.47|:443... connected.\n",
            "HTTP request sent, awaiting response... 200 OK\n",
            "Length: 1473868 (1.4M) [text/plain]\n",
            "Saving to: ‘pg1259.txt’\n",
            "\n",
            "pg1259.txt          100%[===================>]   1.41M  5.61MB/s    in 0.3s    \n",
            "\n",
            "2024-10-22 19:39:14 (5.61 MB/s) - ‘pg1259.txt’ saved [1473868/1473868]\n",
            "\n",
            "--2024-10-22 19:39:14--  https://www.gutenberg.org/cache/epub/27761/pg27761.txt\n",
            "Resolving www.gutenberg.org (www.gutenberg.org)... 152.19.134.47, 2610:28:3090:3000:0:bad:cafe:47\n",
            "Connecting to www.gutenberg.org (www.gutenberg.org)|152.19.134.47|:443... connected.\n",
            "HTTP request sent, awaiting response... 200 OK\n",
            "Length: 228517 (223K) [text/plain]\n",
            "Saving to: ‘pg27761.txt’\n",
            "\n",
            "pg27761.txt         100%[===================>] 223.16K  --.-KB/s    in 0.1s    \n",
            "\n",
            "2024-10-22 19:39:14 (1.52 MB/s) - ‘pg27761.txt’ saved [228517/228517]\n",
            "\n",
            "--2024-10-22 19:39:14--  https://www.gutenberg.org/cache/epub/1661/pg1661.txt\n",
            "Resolving www.gutenberg.org (www.gutenberg.org)... 152.19.134.47, 2610:28:3090:3000:0:bad:cafe:47\n",
            "Connecting to www.gutenberg.org (www.gutenberg.org)|152.19.134.47|:443... connected.\n",
            "HTTP request sent, awaiting response... 200 OK\n",
            "Length: 607648 (593K) [text/plain]\n",
            "Saving to: ‘pg1661.txt’\n",
            "\n",
            "pg1661.txt          100%[===================>] 593.41K  3.19MB/s    in 0.2s    \n",
            "\n",
            "2024-10-22 19:39:15 (3.19 MB/s) - ‘pg1661.txt’ saved [607648/607648]\n",
            "\n",
            "--2024-10-22 19:39:15--  https://www.gutenberg.org/cache/epub/174/pg174.txt\n",
            "Resolving www.gutenberg.org (www.gutenberg.org)... 152.19.134.47, 2610:28:3090:3000:0:bad:cafe:47\n",
            "Connecting to www.gutenberg.org (www.gutenberg.org)|152.19.134.47|:443... connected.\n",
            "HTTP request sent, awaiting response... 200 OK\n",
            "Length: 465857 (455K) [text/plain]\n",
            "Saving to: ‘pg174.txt’\n",
            "\n",
            "pg174.txt           100%[===================>] 454.94K  2.83MB/s    in 0.2s    \n",
            "\n",
            "2024-10-22 19:39:15 (2.83 MB/s) - ‘pg174.txt’ saved [465857/465857]\n",
            "\n",
            "--2024-10-22 19:39:15--  https://www.gutenberg.org/cache/epub/64317/pg64317.txt\n",
            "Resolving www.gutenberg.org (www.gutenberg.org)... 152.19.134.47, 2610:28:3090:3000:0:bad:cafe:47\n",
            "Connecting to www.gutenberg.org (www.gutenberg.org)|152.19.134.47|:443... connected.\n",
            "HTTP request sent, awaiting response... 200 OK\n",
            "Length: 306595 (299K) [text/plain]\n",
            "Saving to: ‘pg64317.txt’\n",
            "\n",
            "pg64317.txt         100%[===================>] 299.41K  --.-KB/s    in 0.1s    \n",
            "\n",
            "2024-10-22 19:39:15 (2.30 MB/s) - ‘pg64317.txt’ saved [306595/306595]\n",
            "\n"
          ]
        }
      ]
    },
    {
      "cell_type": "markdown",
      "source": [
        "Możemy stworzyć folder books i przenieść tam książki manualnie"
      ],
      "metadata": {
        "id": "31y3uMFzstM7"
      }
    },
    {
      "cell_type": "code",
      "source": [
        "#tworzymy folder books i wrzucamy tam książki (cp kopiuje z folderu books do folderu głównego)\n",
        "#!mkdir books\n",
        "#!mv pg1259.txt pg1661.txt pg174.txt pg27761.txt books/\n",
        "#!cp ./books/pg1259.txt ./"
      ],
      "metadata": {
        "id": "2CXSqqg5vavS"
      },
      "execution_count": null,
      "outputs": []
    },
    {
      "cell_type": "code",
      "source": [
        "import time\n",
        "import os\n",
        "import re"
      ],
      "metadata": {
        "id": "7is5jW5kWdnO"
      },
      "execution_count": null,
      "outputs": []
    },
    {
      "cell_type": "code",
      "source": [
        "stopwords = {\"ourselves\", \"hers\", \"between\", \"yourself\", \"but\", \"again\", \"there\", \"about\", \"once\", \"during\", \"out\", \"very\", \"having\", \"with\", \"they\",\n",
        "             \"own\", \"an\", \"be\", \"some\", \"for\", \"do\", \"its\", \"yours\", \"such\", \"into\", \"of\", \"most\", \"itself\", \"other\", \"off\", \"is\", \"s\", \"am\", \"or\",\n",
        "             \"who\", \"as\", \"from\", \"him\", \"each\", \"the\", \"themselves\", \"until\", \"below\", \"are\", \"we\", \"these\", \"your\", \"his\", \"through\", \"don\", \"nor\",\n",
        "             \"me\", \"were\", \"her\", \"more\", \"himself\", \"this\", \"down\", \"should\", \"our\", \"their\", \"while\", \"above\", \"both\", \"up\", \"to\", \"ours\", \"had\",\n",
        "             \"she\", \"all\", \"no\", \"when\", \"at\", \"any\", \"before\", \"them\", \"same\", \"and\", \"been\", \"have\", \"in\", \"will\", \"on\", \"does\", \"yourselves\", \"then\",\n",
        "             \"that\", \"because\", \"what\", \"over\", \"why\", \"so\", \"can\", \"did\", \"not\", \"now\", \"under\", \"he\", \"you\", \"herself\", \"has\", \"just\", \"where\", \"too\",\n",
        "             \"only\", \"myself\", \"which\", \"those\", \"i\", \"after\", \"few\", \"whom\", \"t\", \"being\", \"if\", \"theirs\", \"my\", \"against\", \"a\", \"by\", \"doing\", \"it\",\n",
        "             \"how\", \"further\", \"was\", \"here\", \"than\"}"
      ],
      "metadata": {
        "id": "YWorhu3KXiSD"
      },
      "execution_count": null,
      "outputs": []
    },
    {
      "cell_type": "code",
      "source": [
        "def read_words(f):\n",
        "  return [word for line in open(f, 'r') for word in line.split()]"
      ],
      "metadata": {
        "id": "jKk4PR39Wmqc"
      },
      "execution_count": null,
      "outputs": []
    },
    {
      "cell_type": "code",
      "source": [
        "def shinglets(f, N=5):\n",
        "  shinglet = []\n",
        "  with open(f, 'r') as f_:\n",
        "    for line in f_:\n",
        "      line = re.sub(r'[^\\w]', '', line)\n",
        "      line = line.replace(' ', '')\n",
        "      line = line.lower()\n",
        "      line = line.split()\n",
        "      for w in line:\n",
        "        if w in stopwords:\n",
        "          line.remove(w)\n",
        "      for s in range(len(line) - N):\n",
        "        shinglet.append(line[s:s+N])\n",
        "  return shinglet"
      ],
      "metadata": {
        "id": "dhqdj4BNWzRM"
      },
      "execution_count": null,
      "outputs": []
    },
    {
      "cell_type": "markdown",
      "source": [
        "## LSH v1 z datasketch"
      ],
      "metadata": {
        "id": "mwAxuCbnYEpj"
      }
    },
    {
      "cell_type": "code",
      "source": [
        "from os.path import isfile, join"
      ],
      "metadata": {
        "id": "rYPrt292aGND"
      },
      "execution_count": null,
      "outputs": []
    },
    {
      "cell_type": "code",
      "source": [
        "def LSHcount(dirpath, filepath, threshold=0.7):\n",
        "  files = [f for f in os.listdir(dirpath) if isfile(join(dirpath, f))]\n",
        "\n",
        "  start = time.time()\n",
        "  print(\"Zaczynam tworzenie MinHasha\")\n",
        "\n",
        "  lsh = MinHashLSH(threshold=threshold, num_perm=128)\n",
        "  for f in files:\n",
        "    doc = shinglets(join(dirpath, f))\n",
        "    mhash = MinHash()\n",
        "    for shinglet in doc:\n",
        "      mhash.update(shinglet.encode('utf8'))\n",
        "    lsh.insert(f, mhash)\n",
        "\n",
        "  end_1 = time.time()\n",
        "  print(\"Kończę tworzenie MinHasha. Czas: \", end_1 - start)\n",
        "\n",
        "  search_doc = shinglets(filepath)\n",
        "  m = MinHash()\n",
        "  for shinglet in doc:\n",
        "    m.update(shinglet.encode('utf8'))\n",
        "  result = lsh.query(m)\n",
        "\n",
        "  end_2 = time.time()\n",
        "  print(\"Wykonanie query. Czas: \", end_2 - end_1)\n",
        "\n",
        "  print(result)"
      ],
      "metadata": {
        "id": "F8Q0di_2YD67"
      },
      "execution_count": null,
      "outputs": []
    },
    {
      "cell_type": "code",
      "source": [
        "#jako drugi argument podajemy książkę której nie wrzuciliśmy do folderu books\n",
        "LSHcount('./books/', 'pg1259.txt')"
      ],
      "metadata": {
        "colab": {
          "base_uri": "https://localhost:8080/"
        },
        "id": "mp8T-1aEbned",
        "outputId": "b388c711-282c-46ee-87f9-d01e249803c4"
      },
      "execution_count": null,
      "outputs": [
        {
          "output_type": "stream",
          "name": "stdout",
          "text": [
            "Zaczynam tworzenie MinHasha\n",
            "Kończę tworzenie MinHasha. Czas:  0.3667285442352295\n",
            "Wykonanie query. Czas:  0.20117902755737305\n",
            "['pg174.txt', 'pg1259.txt', 'pg27761.txt', 'pg1661.txt']\n"
          ]
        }
      ]
    },
    {
      "cell_type": "code",
      "source": [
        "#napisać swojego jaccarda i porównać\n",
        "def Jaccard(A, B):\n",
        "  TODO"
      ],
      "metadata": {
        "id": "voQS1SRKb-E7"
      },
      "execution_count": null,
      "outputs": []
    }
  ]
}
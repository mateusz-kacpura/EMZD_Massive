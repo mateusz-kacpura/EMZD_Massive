{
  "nbformat": 4,
  "nbformat_minor": 0,
  "metadata": {
    "colab": {
      "provenance": []
    },
    "kernelspec": {
      "name": "python3",
      "display_name": "Python 3"
    },
    "language_info": {
      "name": "python"
    }
  },
  "cells": [
    {
      "cell_type": "code",
      "execution_count": 6,
      "metadata": {
        "colab": {
          "base_uri": "https://localhost:8080/"
        },
        "id": "mXplP3dti4Xc",
        "outputId": "718b9644-9de7-4858-c3e5-e6d439723933"
      },
      "outputs": [
        {
          "output_type": "stream",
          "name": "stdout",
          "text": [
            "dog True\n",
            "cat True\n",
            "giraffe True\n",
            "fly True\n",
            "mosquito True\n",
            "horse True\n",
            "eagle True\n",
            "bird True\n",
            "bison True\n",
            "boar True\n",
            "butterfly True\n",
            "ant True\n",
            "anaconda True\n",
            "bear True\n",
            "chicken True\n",
            "dolphin True\n",
            "donkey True\n",
            "crow True\n",
            "crocodile True\n",
            "badger False\n",
            "cow False\n",
            "pig False\n",
            "sheep False\n",
            "bee False\n",
            "wolf False\n",
            "fox False\n",
            "whale False\n",
            "shark False\n",
            "fish False\n",
            "turkey False\n",
            "duck False\n",
            "dove False\n",
            "deer False\n",
            "elephant False\n",
            "frog False\n",
            "falcon False\n",
            "goat False\n",
            "gorilla False\n",
            "hawk True\n"
          ]
        }
      ],
      "source": [
        "import numpy as np\n",
        "import math\n",
        "import mmh3\n",
        "from bitarray import bitarray\n",
        "\n",
        "class BloomFilter():\n",
        "  def __init__(self, n, p):\n",
        "    self.p = p\n",
        "    self.n = n\n",
        "\n",
        "    # Calculate bit array size (m) and number of hash functions (k)\n",
        "    self.m = self.get_bit_array_size(self.n, self.p)\n",
        "    self.k = self.get_hash_count(self.m, self.n)\n",
        "\n",
        "    # Initialize bit array to all 0s\n",
        "    self.b = bitarray(self.m)\n",
        "    self.b.setall(0)\n",
        "\n",
        "  def get_hash_count(self, m, n):\n",
        "    # Ensure k is an integer\n",
        "    return int((m / n) * math.log(2))\n",
        "\n",
        "  def get_bit_array_size(self, n, p):\n",
        "    m = -(n * math.log(p)) / (math.log(2) ** 2)\n",
        "    return int(m)\n",
        "\n",
        "  def add(self, string):\n",
        "    for i in range(self.k):\n",
        "      d = mmh3.hash(string, i) % self.m\n",
        "      self.b[d] = 1\n",
        "\n",
        "  def check(self, string):\n",
        "    for i in range(self.k):\n",
        "      d = mmh3.hash(string, i) % self.m\n",
        "      if self.b[d] == 0:\n",
        "        return False\n",
        "    return True\n",
        "\n",
        "# Example usage\n",
        "animals = ['dog', 'cat', 'giraffe', 'fly', 'mosquito', 'horse', 'eagle',\n",
        "           'bird', 'bison', 'boar', 'butterfly', 'ant', 'anaconda', 'bear',\n",
        "           'chicken', 'dolphin', 'donkey', 'crow', 'crocodile']\n",
        "\n",
        "other_animals = ['badger', 'cow', 'pig', 'sheep', 'bee', 'wolf', 'fox',\n",
        "                 'whale', 'shark', 'fish', 'turkey', 'duck', 'dove',\n",
        "                 'deer', 'elephant', 'frog', 'falcon', 'goat', 'gorilla',\n",
        "                 'hawk' ]\n",
        "\n",
        "n = len(animals)\n",
        "p = 0.05\n",
        "bloom = BloomFilter(n, p)\n",
        "\n",
        "# Adding elements to the Bloom Filter\n",
        "for s in animals:\n",
        "  bloom.add(s)\n",
        "\n",
        "# Checking both sets of animals\n",
        "for s in animals + other_animals:\n",
        "  print(s, bloom.check(s))\n"
      ]
    },
    {
      "cell_type": "markdown",
      "source": [
        "## Flajolet-Martin\n",
        "\n",
        "\n"
      ],
      "metadata": {
        "id": "1H6BlXkrowIh"
      }
    },
    {
      "cell_type": "code",
      "source": [
        "import hashlib\n",
        "import random\n",
        "\n",
        "class FlajoletMartin():\n",
        "  def __init__(self, k):\n",
        "    self.k = k\n",
        "    self.max_zeros = [0]*self.k\n",
        "    self.seeds = [random.randint(1, 1 << 32) for _ in range(self.k)]\n",
        "\n",
        "  def hash(self, x, seed):\n",
        "    h = hashlib.sha256()\n",
        "    h.update(str(seed).encode('utf-8'))\n",
        "    h.update(str(x).encode('utf-8'))\n",
        "    return int(h.hexdigest(), 16)\n",
        "\n",
        "  def add(self, x):\n",
        "    for i in range(self.k):\n",
        "      y = self.hash(x, self.seeds[i])\n",
        "      bin_representaion = bin(y)[2:][::-1]\n",
        "      zero_pos = str(bin_representaion).find('1')\n",
        "      if zero_pos == -1:\n",
        "        zeros = len(bin_representaion)\n",
        "\n",
        "      if zero_pos > self.max_zeros[i]:\n",
        "        self.max_zeros[i] = zero_pos\n",
        "\n",
        "  def esimation(self):\n",
        "    R = sum(self.max_zeros) / self.k\n",
        "    return int(2 ** R)\n",
        "\n",
        "stream=[1,2,3,4,5,6,4,2,5,9,1,6,3,7,1,2,2,4,2,1]\n",
        "\n",
        "len(np.unique(stream))\n",
        "fm = FlajoletMartin(5)\n",
        "\n",
        "for x in stream:\n",
        "  fm.add(x)\n",
        "\n",
        "print(fm.esimation())\n",
        "\n",
        "1 << 32  # 2**32\n",
        "\n"
      ],
      "metadata": {
        "colab": {
          "base_uri": "https://localhost:8080/"
        },
        "id": "AUZxPgTVozJM",
        "outputId": "cc0a19cc-a6c9-4ce0-92fb-b31c02d7c521"
      },
      "execution_count": 10,
      "outputs": [
        {
          "output_type": "stream",
          "name": "stdout",
          "text": [
            "4\n"
          ]
        },
        {
          "output_type": "execute_result",
          "data": {
            "text/plain": [
              "4294967296"
            ]
          },
          "metadata": {},
          "execution_count": 10
        }
      ]
    }
  ]
}
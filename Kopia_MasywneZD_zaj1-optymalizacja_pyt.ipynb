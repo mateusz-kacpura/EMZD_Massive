{
  "nbformat": 4,
  "nbformat_minor": 0,
  "metadata": {
    "colab": {
      "provenance": []
    },
    "kernelspec": {
      "name": "python3",
      "display_name": "Python 3"
    },
    "language_info": {
      "name": "python"
    }
  },
  "cells": [
    {
      "cell_type": "code",
      "execution_count": null,
      "metadata": {
        "id": "V_1Eq5mgJjFg"
      },
      "outputs": [],
      "source": [
        "import random"
      ]
    },
    {
      "cell_type": "markdown",
      "source": [
        "## Istotność typu"
      ],
      "metadata": {
        "id": "g8Tba9CCMMaI"
      }
    },
    {
      "cell_type": "code",
      "source": [
        "%%time\n",
        "random_elements = random.sample(range(0, 10_000_000), 1000)\n",
        "seq = list(range(1_000_000))\n",
        "\n",
        "counter = 0\n",
        "for i in random_elements:\n",
        "  if i in seq:\n",
        "    counter += 1"
      ],
      "metadata": {
        "colab": {
          "base_uri": "https://localhost:8080/"
        },
        "id": "iGMBmTg2Jzjx",
        "outputId": "fc22efc3-f5a3-4d16-cbba-670dbcbbd393"
      },
      "execution_count": null,
      "outputs": [
        {
          "output_type": "stream",
          "name": "stdout",
          "text": [
            "CPU times: user 15 s, sys: 243 ms, total: 15.3 s\n",
            "Wall time: 19.1 s\n"
          ]
        }
      ]
    },
    {
      "cell_type": "code",
      "source": [
        "%%time\n",
        "random_elements = random.sample(range(0, 10_000_000), 1000)\n",
        "seq = set(range(1_000_000))\n",
        "\n",
        "counter = 0\n",
        "for i in random_elements:\n",
        "  if i in seq:\n",
        "    counter += 1"
      ],
      "metadata": {
        "colab": {
          "base_uri": "https://localhost:8080/"
        },
        "id": "fE_DLGeAKCbe",
        "outputId": "165401d0-c7a5-4dcc-eca8-a56caf6b8f8b"
      },
      "execution_count": null,
      "outputs": [
        {
          "output_type": "stream",
          "name": "stdout",
          "text": [
            "CPU times: user 50.8 ms, sys: 71.8 ms, total: 123 ms\n",
            "Wall time: 127 ms\n"
          ]
        }
      ]
    },
    {
      "cell_type": "markdown",
      "source": [
        "## Optymalizacja funkcji"
      ],
      "metadata": {
        "id": "aNmf7ZMqMQ5B"
      }
    },
    {
      "cell_type": "code",
      "source": [
        "import math"
      ],
      "metadata": {
        "id": "UNNkbuz7MlUX"
      },
      "execution_count": null,
      "outputs": []
    },
    {
      "cell_type": "code",
      "source": [
        "%%time\n",
        "size = 10000\n",
        "for x in range(size):\n",
        "  for y in range(size):\n",
        "    z = math.sqrt(x) + math.sqrt(y)"
      ],
      "metadata": {
        "colab": {
          "base_uri": "https://localhost:8080/"
        },
        "id": "G63L2fC2K3pf",
        "outputId": "b7acb85b-3c0f-495b-bbc9-ae56e1f2b056"
      },
      "execution_count": null,
      "outputs": [
        {
          "output_type": "stream",
          "name": "stdout",
          "text": [
            "CPU times: user 37.4 s, sys: 86.9 ms, total: 37.5 s\n",
            "Wall time: 37.7 s\n"
          ]
        }
      ]
    },
    {
      "cell_type": "code",
      "source": [
        "%%time\n",
        "def main():\n",
        "  size = 10000\n",
        "  for x in range(size):\n",
        "    sqrt_x = math.sqrt(x)\n",
        "    for y in range(size):\n",
        "      z = sqrt_x + math.sqrt(y)\n",
        "\n",
        "main()"
      ],
      "metadata": {
        "colab": {
          "base_uri": "https://localhost:8080/"
        },
        "id": "rf3OnOxvMuNQ",
        "outputId": "6a0b6286-2ccd-4cc5-ef1e-80189036d47c"
      },
      "execution_count": null,
      "outputs": [
        {
          "output_type": "stream",
          "name": "stdout",
          "text": [
            "CPU times: user 16.1 s, sys: 21.7 ms, total: 16.1 s\n",
            "Wall time: 16.3 s\n"
          ]
        }
      ]
    },
    {
      "cell_type": "code",
      "source": [
        "%%time\n",
        "f = math.sqrt\n",
        "\n",
        "def main():\n",
        "  size = 10000\n",
        "  for x in range(size):\n",
        "    sqrt_x = f(x)\n",
        "    for y in range(size):\n",
        "      z = sqrt_x + f(y)\n",
        "\n",
        "main()"
      ],
      "metadata": {
        "colab": {
          "base_uri": "https://localhost:8080/"
        },
        "id": "iL-euboRM7SH",
        "outputId": "f556fc28-5eec-4a3f-9b2d-588d2a32e86e"
      },
      "execution_count": null,
      "outputs": [
        {
          "output_type": "stream",
          "name": "stdout",
          "text": [
            "CPU times: user 12.5 s, sys: 28.3 ms, total: 12.6 s\n",
            "Wall time: 12.7 s\n"
          ]
        }
      ]
    },
    {
      "cell_type": "code",
      "source": [
        "%%time\n",
        "f = math.sqrt\n",
        "\n",
        "def main():\n",
        "  size = 10000\n",
        "  x = 0\n",
        "  while x <= size:\n",
        "    sqrt_x = f(x)\n",
        "    y = 0\n",
        "    while y <= size:\n",
        "      z = sqrt_x + f(y)\n",
        "      y += 1\n",
        "    x += 1\n",
        "\n",
        "main()"
      ],
      "metadata": {
        "colab": {
          "base_uri": "https://localhost:8080/"
        },
        "id": "ZuXPUOUUOTX4",
        "outputId": "e31ef617-c372-4807-dbbb-2fb81b607d2f"
      },
      "execution_count": null,
      "outputs": [
        {
          "output_type": "stream",
          "name": "stdout",
          "text": [
            "CPU times: user 16.5 s, sys: 22.2 ms, total: 16.5 s\n",
            "Wall time: 16.6 s\n"
          ]
        }
      ]
    },
    {
      "cell_type": "markdown",
      "source": [
        "## Wielkość"
      ],
      "metadata": {
        "id": "fhLdBEySO7jo"
      }
    },
    {
      "cell_type": "code",
      "source": [
        "import sys"
      ],
      "metadata": {
        "id": "JmhNb8I0PHxo"
      },
      "execution_count": null,
      "outputs": []
    },
    {
      "cell_type": "code",
      "source": [
        "num_list = [num**2 for num in range(100_000)]\n",
        "sys.getsizeof(num_list)"
      ],
      "metadata": {
        "colab": {
          "base_uri": "https://localhost:8080/"
        },
        "id": "gxhbipn4O4Qw",
        "outputId": "76d71dbd-f3dc-4a9f-881c-192197ad87e2"
      },
      "execution_count": null,
      "outputs": [
        {
          "output_type": "execute_result",
          "data": {
            "text/plain": [
              "800984"
            ]
          },
          "metadata": {},
          "execution_count": 10
        }
      ]
    },
    {
      "cell_type": "code",
      "source": [
        "num_list = (num**2 for num in range(100_000))\n",
        "sys.getsizeof(num_list)"
      ],
      "metadata": {
        "colab": {
          "base_uri": "https://localhost:8080/"
        },
        "id": "0Q-XtifAPUVQ",
        "outputId": "ec29dbc5-d5e5-4745-e48a-4df85bfa53e1"
      },
      "execution_count": null,
      "outputs": [
        {
          "output_type": "execute_result",
          "data": {
            "text/plain": [
              "104"
            ]
          },
          "metadata": {},
          "execution_count": 11
        }
      ]
    },
    {
      "cell_type": "markdown",
      "source": [
        "## Konkatenacja stringów"
      ],
      "metadata": {
        "id": "yegg-N-2Pscp"
      }
    },
    {
      "cell_type": "code",
      "source": [
        "import string"
      ],
      "metadata": {
        "id": "ar7fKeGXQXNI"
      },
      "execution_count": null,
      "outputs": []
    },
    {
      "cell_type": "code",
      "source": [
        "%%time\n",
        "def concat_string(string_list):\n",
        "  result = ''\n",
        "  for str_i in string_list:\n",
        "    result += str_i\n",
        "  return result\n",
        "\n",
        "def main():\n",
        "  string_list = list(string.ascii_letters * 100)\n",
        "  for _ in range(10000):\n",
        "    result = concat_string(string_list)\n",
        "\n",
        "main()"
      ],
      "metadata": {
        "colab": {
          "base_uri": "https://localhost:8080/"
        },
        "id": "sAR8gWoyPceQ",
        "outputId": "1335968e-c50b-4a6a-e0a6-0dacea0ed0d4"
      },
      "execution_count": null,
      "outputs": [
        {
          "output_type": "stream",
          "name": "stdout",
          "text": [
            "CPU times: user 4.97 s, sys: 7.1 ms, total: 4.98 s\n",
            "Wall time: 4.98 s\n"
          ]
        }
      ]
    },
    {
      "cell_type": "code",
      "source": [
        "%%time\n",
        "def concat_string(string_list):\n",
        "  return ''.join(string_list)\n",
        "\n",
        "def main():\n",
        "  string_list = list(string.ascii_letters * 100)\n",
        "  for _ in range(10000):\n",
        "    result = concat_string(string_list)\n",
        "\n",
        "main()"
      ],
      "metadata": {
        "colab": {
          "base_uri": "https://localhost:8080/"
        },
        "id": "h5X2-0ifQ20B",
        "outputId": "1b5b8de2-9ca1-4aac-b4db-1956e140c40b"
      },
      "execution_count": null,
      "outputs": [
        {
          "output_type": "stream",
          "name": "stdout",
          "text": [
            "CPU times: user 783 ms, sys: 4.92 ms, total: 788 ms\n",
            "Wall time: 839 ms\n"
          ]
        }
      ]
    },
    {
      "cell_type": "markdown",
      "source": [
        "## Przykład z sumą"
      ],
      "metadata": {
        "id": "fZOU4YB1R84J"
      }
    },
    {
      "cell_type": "code",
      "source": [
        "%%time\n",
        "\n",
        "def computeSum(size: int) -> int:\n",
        "  sum_ = 0\n",
        "  i = 0\n",
        "  while i < size:\n",
        "    sum_ += i\n",
        "    i += 1\n",
        "  return sum_\n",
        "\n",
        "def main():\n",
        "  size = 10000\n",
        "  for _ in range(size):\n",
        "    sum_ = computeSum(size)\n",
        "\n",
        "main()"
      ],
      "metadata": {
        "colab": {
          "base_uri": "https://localhost:8080/"
        },
        "id": "wfV7tIK5RRBA",
        "outputId": "6bc6d693-3b84-4a6f-de43-662abeb22852"
      },
      "execution_count": null,
      "outputs": [
        {
          "output_type": "stream",
          "name": "stdout",
          "text": [
            "CPU times: user 11.3 s, sys: 25.1 ms, total: 11.3 s\n",
            "Wall time: 11.4 s\n"
          ]
        }
      ]
    },
    {
      "cell_type": "code",
      "source": [
        "%%time\n",
        "\n",
        "def computeSum(size: int) -> int:\n",
        "  sum_ = 0\n",
        "  for i in range(size):\n",
        "    sum_ += i\n",
        "  return sum_\n",
        "\n",
        "def main():\n",
        "  size = 10000\n",
        "  for _ in range(size):\n",
        "    sum_ = computeSum(size)\n",
        "\n",
        "main()"
      ],
      "metadata": {
        "colab": {
          "base_uri": "https://localhost:8080/"
        },
        "id": "yo0D_9cWR5_B",
        "outputId": "1beb34a3-fbca-40f9-8fa7-d538f45808a3"
      },
      "execution_count": null,
      "outputs": [
        {
          "output_type": "stream",
          "name": "stdout",
          "text": [
            "CPU times: user 7.31 s, sys: 12 ms, total: 7.32 s\n",
            "Wall time: 7.38 s\n"
          ]
        }
      ]
    },
    {
      "cell_type": "code",
      "source": [
        "%%time\n",
        "\n",
        "def computeSum(size: int) -> int:\n",
        "  return sum(range(size))\n",
        "\n",
        "def main():\n",
        "  size = 10000\n",
        "  for _ in range(size):\n",
        "    sum_ = computeSum(size)\n",
        "\n",
        "main()"
      ],
      "metadata": {
        "colab": {
          "base_uri": "https://localhost:8080/"
        },
        "id": "sqwdyVj6SqyR",
        "outputId": "078e71dc-0ce3-49c7-f38c-3b6e5aea365e"
      },
      "execution_count": null,
      "outputs": [
        {
          "output_type": "stream",
          "name": "stdout",
          "text": [
            "CPU times: user 1.88 s, sys: 4.04 ms, total: 1.88 s\n",
            "Wall time: 1.88 s\n"
          ]
        }
      ]
    },
    {
      "cell_type": "code",
      "source": [
        "import cProfile"
      ],
      "metadata": {
        "id": "ayfMAh8zS5QR"
      },
      "execution_count": null,
      "outputs": []
    },
    {
      "cell_type": "code",
      "source": [
        "%%time\n",
        "\n",
        "def computeSum(size: int) -> int:\n",
        "  return sum(range(size))\n",
        "\n",
        "def main():\n",
        "  size = 10000\n",
        "  for _ in range(size):\n",
        "    sum_ = computeSum(size)\n",
        "\n",
        "cProfile.run(\"main()\")"
      ],
      "metadata": {
        "colab": {
          "base_uri": "https://localhost:8080/"
        },
        "id": "hKBm1pRxS8gB",
        "outputId": "4bde6e9a-62c1-44b1-a6bf-913e381d5824"
      },
      "execution_count": null,
      "outputs": [
        {
          "output_type": "stream",
          "name": "stdout",
          "text": [
            "         20004 function calls in 1.892 seconds\n",
            "\n",
            "   Ordered by: standard name\n",
            "\n",
            "   ncalls  tottime  percall  cumtime  percall filename:lineno(function)\n",
            "        1    0.000    0.000    1.891    1.891 <string>:1(<module>)\n",
            "    10000    0.025    0.000    1.888    0.000 <timed exec>:1(computeSum)\n",
            "        1    0.004    0.004    1.891    1.891 <timed exec>:4(main)\n",
            "        1    0.000    0.000    1.892    1.892 {built-in method builtins.exec}\n",
            "    10000    1.863    0.000    1.863    0.000 {built-in method builtins.sum}\n",
            "        1    0.000    0.000    0.000    0.000 {method 'disable' of '_lsprof.Profiler' objects}\n",
            "\n",
            "\n",
            "CPU times: user 1.92 s, sys: 1.07 ms, total: 1.92 s\n",
            "Wall time: 1.92 s\n"
          ]
        }
      ]
    },
    {
      "cell_type": "code",
      "source": [
        "import numba"
      ],
      "metadata": {
        "id": "Dye_jq3KTKJL"
      },
      "execution_count": null,
      "outputs": []
    },
    {
      "cell_type": "code",
      "source": [
        "%%time\n",
        "\n",
        "@numba.jit\n",
        "def computeSum(size: int) -> int:\n",
        "  sum_ = 0\n",
        "  i = 0\n",
        "  while i < size:\n",
        "    sum_ += i\n",
        "    i += 1\n",
        "  return sum_\n",
        "\n",
        "def main():\n",
        "  size = 10000\n",
        "  for _ in range(size):\n",
        "    sum_ = computeSum(size)\n",
        "\n",
        "main()"
      ],
      "metadata": {
        "colab": {
          "base_uri": "https://localhost:8080/"
        },
        "id": "SWFfSqQkTLcE",
        "outputId": "a228f0a2-c2b9-4829-d8c1-5414c42da707"
      },
      "execution_count": null,
      "outputs": [
        {
          "output_type": "stream",
          "name": "stdout",
          "text": [
            "CPU times: user 1.03 s, sys: 61.9 ms, total: 1.09 s\n",
            "Wall time: 1.26 s\n"
          ]
        }
      ]
    },
    {
      "cell_type": "code",
      "source": [],
      "metadata": {
        "id": "QZp2Rck-TlVB"
      },
      "execution_count": null,
      "outputs": []
    }
  ]
}